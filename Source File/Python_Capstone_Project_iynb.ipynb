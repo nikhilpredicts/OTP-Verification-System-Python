{
  "nbformat": 4,
  "nbformat_minor": 0,
  "metadata": {
    "colab": {
      "provenance": []
    },
    "kernelspec": {
      "name": "python3",
      "display_name": "Python 3"
    },
    "language_info": {
      "name": "python"
    }
  },
  "cells": [
    {
      "cell_type": "markdown",
      "source": [
        "# **Python Capstone Project**"
      ],
      "metadata": {
        "id": "DuAu2ymwlw10"
      }
    },
    {
      "cell_type": "markdown",
      "source": [
        "Importing Required Libraries for the OTP Verfication\n"
      ],
      "metadata": {
        "id": "CTCFun7YmN71"
      }
    },
    {
      "cell_type": "code",
      "source": [
        "import random\n",
        "import smtplib\n",
        "from email.mime.text import MIMEText\n",
        "from email.mime.multipart import MIMEMultipart"
      ],
      "metadata": {
        "id": "CMyBt-ZkZ5RT"
      },
      "execution_count": null,
      "outputs": []
    },
    {
      "cell_type": "markdown",
      "source": [
        "Defining of Required Functions"
      ],
      "metadata": {
        "id": "gpFVgivcSyEj"
      }
    },
    {
      "cell_type": "code",
      "source": [
        "\n",
        "# Function to generate a 6-digit OTP\n",
        "def otp():\n",
        "    return str(random.randint(100000, 999999))\n",
        "\n",
        "# Function to send the OTP via email\n",
        "def send_otp_email(recipient_email, otp):\n",
        "    sender_email = \"karakanikhil2003@gmail.com\"\n",
        "    sender_password = \"agqi vnpz oqye yxwe\"\n",
        "    subject = \"Your OTP Verification Code\"\n",
        "    body = f\"Your One Time Password is {otp}.\"\n",
        "\n",
        "    try:\n",
        "        # Setting up email\n",
        "        message = MIMEMultipart()\n",
        "        message['From'] = sender_email\n",
        "        message['To'] = recipient_email\n",
        "        message['Subject'] = subject\n",
        "        message.attach(MIMEText(body, 'plain'))\n",
        "\n",
        "        # Connecting to e-mail server\n",
        "        server = smtplib.SMTP(\"smtp.gmail.com\", 587)\n",
        "        server.starttls()\n",
        "        server.login(sender_email, sender_password)\n",
        "        server.send_message(message)\n",
        "        server.quit()\n",
        "\n",
        "        print(\"OTP has been sent to your email.\")\n",
        "        return True\n",
        "    except Exception as e:\n",
        "        print(f\"Failed to send OTP. Error: {e}\")\n",
        "        return False"
      ],
      "metadata": {
        "id": "iGkM3I0XdnUG"
      },
      "execution_count": 38,
      "outputs": []
    },
    {
      "cell_type": "code",
      "source": [
        "# Function to verify the OTP entered by the user\n",
        "def verify_otp(generated_otp, max_attempts=3):\n",
        "    for i in range(max_attempts):\n",
        "        user_otp = input(\"Enter the OTP sent to your email: \").strip()\n",
        "        if user_otp == generated_otp:\n",
        "            print(\"Access Granted.\")\n",
        "            return True\n",
        "        else:\n",
        "            print(\"Incorrect OTP. Please try again.\")\n",
        "    print(\"Access Denied.\")\n",
        "    return False\n"
      ],
      "metadata": {
        "id": "XV_Iop7amhJJ"
      },
      "execution_count": 43,
      "outputs": []
    },
    {
      "cell_type": "markdown",
      "source": [
        "Main Function"
      ],
      "metadata": {
        "id": "NQiZ1m6AS8r5"
      }
    },
    {
      "cell_type": "code",
      "source": [
        "if __name__ == \"__main__\":\n",
        "    # Ask the user to enter their email address\n",
        "    recipient_email = input(\"Enter your email address: \").strip()\n",
        "    otp = generate_otp()  # Generate a 6-digit OTP\n",
        "\n",
        "    # Try to send the OTP to the provided email\n",
        "    email_sent = send_otp_email(recipient_email, otp)\n",
        "\n",
        "    # Check if the email was sent successfully\n",
        "    if email_sent:\n",
        "        # If the email was sent, verify the OTP\n",
        "        otp_verified = verify_otp(otp)\n",
        "\n",
        "        if otp_verified:\n",
        "            print(\"Verification successful! Exiting program.\")\n",
        "        else:\n",
        "            print(\"Failed to verify OTP. Please try again later.\")\n",
        "    else:\n",
        "        # If the email was not sent, ask the user to try again\n",
        "        print(\"Failed to send OTP. Please check your email address and restart the program.\")"
      ],
      "metadata": {
        "colab": {
          "base_uri": "https://localhost:8080/"
        },
        "id": "CPBgTTOcAdLM",
        "outputId": "c76b4fc4-dddb-42aa-cdf8-afc923393220"
      },
      "execution_count": 51,
      "outputs": [
        {
          "output_type": "stream",
          "name": "stdout",
          "text": [
            "Enter your email address: kishorekiran1290@gmail.com\n",
            "OTP has been sent to your email.\n",
            "Enter the OTP sent to your email: 443344\n",
            "Incorrect OTP. Please try again.\n",
            "Enter the OTP sent to your email: 224456\n",
            "Incorrect OTP. Please try again.\n",
            "Enter the OTP sent to your email: 115577\n",
            "Incorrect OTP. Please try again.\n",
            "Access Denied.\n",
            "Failed to verify OTP. Please try again later.\n"
          ]
        }
      ]
    }
  ]
}